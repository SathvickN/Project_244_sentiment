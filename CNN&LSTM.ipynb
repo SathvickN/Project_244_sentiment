{
  "cells": [
    {
      "cell_type": "code",
      "execution_count": null,
      "metadata": {
        "id": "9zlhfx1WawRJ"
      },
      "outputs": [],
      "source": [
        "import torch"
      ]
    },
    {
      "cell_type": "code",
      "execution_count": null,
      "metadata": {
        "colab": {
          "base_uri": "https://localhost:8080/"
        },
        "id": "BID0gAxba3N_",
        "outputId": "2c6fc822-6ff1-460f-feed-12ff2cda3c57"
      },
      "outputs": [
        {
          "output_type": "stream",
          "name": "stdout",
          "text": [
            "cuda\n"
          ]
        }
      ],
      "source": [
        "device = torch.device(\"cuda\" if torch.cuda.is_available() else \"cpu\")\n",
        "print(device)"
      ]
    },
    {
      "cell_type": "code",
      "execution_count": null,
      "metadata": {
        "id": "iV43kJPmJP4o",
        "outputId": "83dbfd0c-2e2a-474e-a40d-9aff5b26f92a",
        "colab": {
          "base_uri": "https://localhost:8080/"
        }
      },
      "outputs": [
        {
          "output_type": "stream",
          "name": "stdout",
          "text": [
            "\u001b[31mERROR: You must give at least one requirement to install (see \"pip help install\")\u001b[0m\u001b[31m\n",
            "\u001b[0m"
          ]
        }
      ],
      "source": [
        "!pip install "
      ]
    },
    {
      "cell_type": "code",
      "execution_count": null,
      "metadata": {
        "colab": {
          "base_uri": "https://localhost:8080/"
        },
        "id": "I4ibQ941Gxqa",
        "outputId": "6c0cbfc8-1e51-43e1-ec72-baf2d500a9e7"
      },
      "outputs": [
        {
          "name": "stdout",
          "output_type": "stream",
          "text": [
            "Epoch 1/3\n",
            "157/157 [==============================] - 35s 218ms/step - loss: 0.5085 - accuracy: 0.7346 - val_loss: 0.2944 - val_accuracy: 0.8752\n",
            "Epoch 2/3\n",
            "157/157 [==============================] - 26s 166ms/step - loss: 0.2449 - accuracy: 0.9052 - val_loss: 0.2421 - val_accuracy: 0.9007\n",
            "Epoch 3/3\n",
            "157/157 [==============================] - 24s 152ms/step - loss: 0.1604 - accuracy: 0.9441 - val_loss: 0.2391 - val_accuracy: 0.9022\n"
          ]
        },
        {
          "data": {
            "text/plain": [
              "<keras.callbacks.History at 0x7fe999069de0>"
            ]
          },
          "execution_count": 23,
          "metadata": {},
          "output_type": "execute_result"
        }
      ],
      "source": [
        "import pandas as pd\n",
        "import numpy as np\n",
        "from sklearn.model_selection import train_test_split\n",
        "from sklearn.metrics import accuracy_score, classification_report\n",
        "from tensorflow.keras.preprocessing.text import Tokenizer\n",
        "from tensorflow.keras.preprocessing.sequence import pad_sequences\n",
        "from tensorflow.keras.models import Sequential\n",
        "from tensorflow.keras.layers import Embedding, Conv1D, GlobalMaxPooling1D, Dense, Dropout\n",
        "\n",
        "\n",
        "# Load the IMDB dataset from Kaggle\n",
        "df = pd.read_csv('/content/IMDB Dataset.csv')\n",
        "\n",
        "# Map the labels to 0 (negative) and 1 (positive)\n",
        "df['sentiment'] = df['sentiment'].map({'negative': 0, 'positive': 1})\n",
        "\n",
        "# Split the dataset into training and testing sets\n",
        "train_df, test_df = train_test_split(df, test_size=0.2, random_state=42)\n",
        "\n",
        "# Tokenize the text\n",
        "tokenizer = Tokenizer(num_words=5000)\n",
        "tokenizer.fit_on_texts(train_df['review'])\n",
        "\n",
        "X_train = tokenizer.texts_to_sequences(train_df['review'])\n",
        "X_test = tokenizer.texts_to_sequences(test_df['review'])\n",
        "\n",
        "# Pad sequences to the same length\n",
        "max_len = max(len(review) for review in X_train)\n",
        "X_train = pad_sequences(X_train, maxlen=max_len)\n",
        "X_test = pad_sequences(X_test, maxlen=max_len)\n",
        "\n",
        "# Convert labels to numpy arrays\n",
        "y_train = np.array(train_df['sentiment'])\n",
        "y_test = np.array(test_df['sentiment'])\n",
        "\n",
        "# Build the CNN model\n",
        "vocab_size = len(tokenizer.word_index) + 1\n",
        "embedding_dim = 100\n",
        "\n",
        "model_cnn = Sequential()\n",
        "model_cnn.add(Embedding(vocab_size, embedding_dim, input_length=max_len))\n",
        "model_cnn.add(Conv1D(128, 5, activation='relu'))\n",
        "model_cnn.add(GlobalMaxPooling1D())\n",
        "model_cnn.add(Dense(64, activation='relu'))\n",
        "model_cnn.add(Dropout(0.5))\n",
        "model_cnn.add(Dense(1, activation='sigmoid'))\n",
        "\n",
        "model_cnn.compile(loss='binary_crossentropy', optimizer='adam', metrics=['accuracy'])\n",
        "\n",
        "# Train the model\n",
        "batch_size = 256\n",
        "epochs = 3\n",
        "\n",
        "model_cnn.fit(X_train, y_train, batch_size=batch_size, epochs=epochs, validation_data=(X_test, y_test))\n",
        "\n",
        "# Evaluate the model\n"
      ]
    },
    {
      "cell_type": "code",
      "execution_count": null,
      "metadata": {
        "colab": {
          "base_uri": "https://localhost:8080/"
        },
        "id": "0KTUiv3fciSV",
        "outputId": "f445b09e-6fd2-4591-ae6a-dae5a88fd3d7"
      },
      "outputs": [
        {
          "name": "stdout",
          "output_type": "stream",
          "text": [
            "313/313 [==============================] - 2s 6ms/step\n",
            "Accuracy: 0.9064\n",
            "Classification Report:\n",
            "              precision    recall  f1-score   support\n",
            "\n",
            "           0       0.92      0.89      0.90      4961\n",
            "           1       0.89      0.92      0.91      5039\n",
            "\n",
            "    accuracy                           0.91     10000\n",
            "   macro avg       0.91      0.91      0.91     10000\n",
            "weighted avg       0.91      0.91      0.91     10000\n",
            "\n"
          ]
        }
      ],
      "source": [
        "y_pred_prob = model.predict(X_test)\n",
        "y_pred = np.where(y_pred_prob >= 0.5, 1, 0)\n",
        "accuracy = accuracy_score(y_test, y_pred)\n",
        "classification_rep = classification_report(y_test, y_pred)\n",
        "\n",
        "print(f\"Accuracy: {accuracy:.4f}\")\n",
        "print(\"Classification Report:\")\n",
        "print(classification_rep)\n"
      ]
    },
    {
      "cell_type": "markdown",
      "metadata": {
        "id": "OMVBO60TWrr1"
      },
      "source": [
        "# LSTM"
      ]
    },
    {
      "cell_type": "code",
      "execution_count": null,
      "metadata": {
        "id": "FixTbQjpUhXC"
      },
      "outputs": [],
      "source": [
        "import pandas as pd\n",
        "import numpy as np\n",
        "from sklearn.model_selection import train_test_split\n",
        "from sklearn.metrics import accuracy_score, classification_report\n",
        "from tensorflow.keras.preprocessing.text import Tokenizer\n",
        "from tensorflow.keras.preprocessing.sequence import pad_sequences\n",
        "from tensorflow.keras.models import Sequential\n",
        "from tensorflow.keras.layers import Embedding, LSTM, Dense, Dropout\n",
        "import pandas as pd\n",
        "import numpy as np\n",
        "from sklearn.model_selection import train_test_split\n",
        "from sklearn.metrics import accuracy_score, classification_report\n",
        "from tensorflow.keras.preprocessing.text import Tokenizer\n",
        "from tensorflow.keras.preprocessing.sequence import pad_sequences\n",
        "from tensorflow.keras.models import Sequential\n",
        "from tensorflow.keras.layers import Embedding, Conv1D, GlobalMaxPooling1D, Dense, Dropout"
      ]
    },
    {
      "cell_type": "code",
      "execution_count": null,
      "metadata": {
        "colab": {
          "base_uri": "https://localhost:8080/",
          "height": 381
        },
        "id": "xxsXPcYrJQuX",
        "outputId": "e57a2df4-ad30-4a78-8e61-d3b0e476462b"
      },
      "outputs": [
        {
          "output_type": "error",
          "ename": "FileNotFoundError",
          "evalue": "ignored",
          "traceback": [
            "\u001b[0;31m---------------------------------------------------------------------------\u001b[0m",
            "\u001b[0;31mFileNotFoundError\u001b[0m                         Traceback (most recent call last)",
            "\u001b[0;32m<ipython-input-29-fbf228792de5>\u001b[0m in \u001b[0;36m<cell line: 11>\u001b[0;34m()\u001b[0m\n\u001b[1;32m      9\u001b[0m \u001b[0;34m\u001b[0m\u001b[0m\n\u001b[1;32m     10\u001b[0m \u001b[0;31m# Load the IMDB dataset from Kaggle\u001b[0m\u001b[0;34m\u001b[0m\u001b[0;34m\u001b[0m\u001b[0m\n\u001b[0;32m---> 11\u001b[0;31m \u001b[0mdf\u001b[0m \u001b[0;34m=\u001b[0m \u001b[0mpd\u001b[0m\u001b[0;34m.\u001b[0m\u001b[0mread_csv\u001b[0m\u001b[0;34m(\u001b[0m\u001b[0;34m'/content/IMDB Dataset.csv'\u001b[0m\u001b[0;34m)\u001b[0m\u001b[0;34m\u001b[0m\u001b[0;34m\u001b[0m\u001b[0m\n\u001b[0m\u001b[1;32m     12\u001b[0m \u001b[0;34m\u001b[0m\u001b[0m\n\u001b[1;32m     13\u001b[0m \u001b[0;31m# Map the labels to 0 (negative) and 1 (positive)\u001b[0m\u001b[0;34m\u001b[0m\u001b[0;34m\u001b[0m\u001b[0m\n",
            "\u001b[0;32m/usr/local/lib/python3.10/dist-packages/pandas/util/_decorators.py\u001b[0m in \u001b[0;36mwrapper\u001b[0;34m(*args, **kwargs)\u001b[0m\n\u001b[1;32m    209\u001b[0m                 \u001b[0;32melse\u001b[0m\u001b[0;34m:\u001b[0m\u001b[0;34m\u001b[0m\u001b[0;34m\u001b[0m\u001b[0m\n\u001b[1;32m    210\u001b[0m                     \u001b[0mkwargs\u001b[0m\u001b[0;34m[\u001b[0m\u001b[0mnew_arg_name\u001b[0m\u001b[0;34m]\u001b[0m \u001b[0;34m=\u001b[0m \u001b[0mnew_arg_value\u001b[0m\u001b[0;34m\u001b[0m\u001b[0;34m\u001b[0m\u001b[0m\n\u001b[0;32m--> 211\u001b[0;31m             \u001b[0;32mreturn\u001b[0m \u001b[0mfunc\u001b[0m\u001b[0;34m(\u001b[0m\u001b[0;34m*\u001b[0m\u001b[0margs\u001b[0m\u001b[0;34m,\u001b[0m \u001b[0;34m**\u001b[0m\u001b[0mkwargs\u001b[0m\u001b[0;34m)\u001b[0m\u001b[0;34m\u001b[0m\u001b[0;34m\u001b[0m\u001b[0m\n\u001b[0m\u001b[1;32m    212\u001b[0m \u001b[0;34m\u001b[0m\u001b[0m\n\u001b[1;32m    213\u001b[0m         \u001b[0;32mreturn\u001b[0m \u001b[0mcast\u001b[0m\u001b[0;34m(\u001b[0m\u001b[0mF\u001b[0m\u001b[0;34m,\u001b[0m \u001b[0mwrapper\u001b[0m\u001b[0;34m)\u001b[0m\u001b[0;34m\u001b[0m\u001b[0;34m\u001b[0m\u001b[0m\n",
            "\u001b[0;32m/usr/local/lib/python3.10/dist-packages/pandas/util/_decorators.py\u001b[0m in \u001b[0;36mwrapper\u001b[0;34m(*args, **kwargs)\u001b[0m\n\u001b[1;32m    329\u001b[0m                     \u001b[0mstacklevel\u001b[0m\u001b[0;34m=\u001b[0m\u001b[0mfind_stack_level\u001b[0m\u001b[0;34m(\u001b[0m\u001b[0;34m)\u001b[0m\u001b[0;34m,\u001b[0m\u001b[0;34m\u001b[0m\u001b[0;34m\u001b[0m\u001b[0m\n\u001b[1;32m    330\u001b[0m                 )\n\u001b[0;32m--> 331\u001b[0;31m             \u001b[0;32mreturn\u001b[0m \u001b[0mfunc\u001b[0m\u001b[0;34m(\u001b[0m\u001b[0;34m*\u001b[0m\u001b[0margs\u001b[0m\u001b[0;34m,\u001b[0m \u001b[0;34m**\u001b[0m\u001b[0mkwargs\u001b[0m\u001b[0;34m)\u001b[0m\u001b[0;34m\u001b[0m\u001b[0;34m\u001b[0m\u001b[0m\n\u001b[0m\u001b[1;32m    332\u001b[0m \u001b[0;34m\u001b[0m\u001b[0m\n\u001b[1;32m    333\u001b[0m         \u001b[0;31m# error: \"Callable[[VarArg(Any), KwArg(Any)], Any]\" has no\u001b[0m\u001b[0;34m\u001b[0m\u001b[0;34m\u001b[0m\u001b[0m\n",
            "\u001b[0;32m/usr/local/lib/python3.10/dist-packages/pandas/io/parsers/readers.py\u001b[0m in \u001b[0;36mread_csv\u001b[0;34m(filepath_or_buffer, sep, delimiter, header, names, index_col, usecols, squeeze, prefix, mangle_dupe_cols, dtype, engine, converters, true_values, false_values, skipinitialspace, skiprows, skipfooter, nrows, na_values, keep_default_na, na_filter, verbose, skip_blank_lines, parse_dates, infer_datetime_format, keep_date_col, date_parser, dayfirst, cache_dates, iterator, chunksize, compression, thousands, decimal, lineterminator, quotechar, quoting, doublequote, escapechar, comment, encoding, encoding_errors, dialect, error_bad_lines, warn_bad_lines, on_bad_lines, delim_whitespace, low_memory, memory_map, float_precision, storage_options)\u001b[0m\n\u001b[1;32m    948\u001b[0m     \u001b[0mkwds\u001b[0m\u001b[0;34m.\u001b[0m\u001b[0mupdate\u001b[0m\u001b[0;34m(\u001b[0m\u001b[0mkwds_defaults\u001b[0m\u001b[0;34m)\u001b[0m\u001b[0;34m\u001b[0m\u001b[0;34m\u001b[0m\u001b[0m\n\u001b[1;32m    949\u001b[0m \u001b[0;34m\u001b[0m\u001b[0m\n\u001b[0;32m--> 950\u001b[0;31m     \u001b[0;32mreturn\u001b[0m \u001b[0m_read\u001b[0m\u001b[0;34m(\u001b[0m\u001b[0mfilepath_or_buffer\u001b[0m\u001b[0;34m,\u001b[0m \u001b[0mkwds\u001b[0m\u001b[0;34m)\u001b[0m\u001b[0;34m\u001b[0m\u001b[0;34m\u001b[0m\u001b[0m\n\u001b[0m\u001b[1;32m    951\u001b[0m \u001b[0;34m\u001b[0m\u001b[0m\n\u001b[1;32m    952\u001b[0m \u001b[0;34m\u001b[0m\u001b[0m\n",
            "\u001b[0;32m/usr/local/lib/python3.10/dist-packages/pandas/io/parsers/readers.py\u001b[0m in \u001b[0;36m_read\u001b[0;34m(filepath_or_buffer, kwds)\u001b[0m\n\u001b[1;32m    603\u001b[0m \u001b[0;34m\u001b[0m\u001b[0m\n\u001b[1;32m    604\u001b[0m     \u001b[0;31m# Create the parser.\u001b[0m\u001b[0;34m\u001b[0m\u001b[0;34m\u001b[0m\u001b[0m\n\u001b[0;32m--> 605\u001b[0;31m     \u001b[0mparser\u001b[0m \u001b[0;34m=\u001b[0m \u001b[0mTextFileReader\u001b[0m\u001b[0;34m(\u001b[0m\u001b[0mfilepath_or_buffer\u001b[0m\u001b[0;34m,\u001b[0m \u001b[0;34m**\u001b[0m\u001b[0mkwds\u001b[0m\u001b[0;34m)\u001b[0m\u001b[0;34m\u001b[0m\u001b[0;34m\u001b[0m\u001b[0m\n\u001b[0m\u001b[1;32m    606\u001b[0m \u001b[0;34m\u001b[0m\u001b[0m\n\u001b[1;32m    607\u001b[0m     \u001b[0;32mif\u001b[0m \u001b[0mchunksize\u001b[0m \u001b[0;32mor\u001b[0m \u001b[0miterator\u001b[0m\u001b[0;34m:\u001b[0m\u001b[0;34m\u001b[0m\u001b[0;34m\u001b[0m\u001b[0m\n",
            "\u001b[0;32m/usr/local/lib/python3.10/dist-packages/pandas/io/parsers/readers.py\u001b[0m in \u001b[0;36m__init__\u001b[0;34m(self, f, engine, **kwds)\u001b[0m\n\u001b[1;32m   1440\u001b[0m \u001b[0;34m\u001b[0m\u001b[0m\n\u001b[1;32m   1441\u001b[0m         \u001b[0mself\u001b[0m\u001b[0;34m.\u001b[0m\u001b[0mhandles\u001b[0m\u001b[0;34m:\u001b[0m \u001b[0mIOHandles\u001b[0m \u001b[0;34m|\u001b[0m \u001b[0;32mNone\u001b[0m \u001b[0;34m=\u001b[0m \u001b[0;32mNone\u001b[0m\u001b[0;34m\u001b[0m\u001b[0;34m\u001b[0m\u001b[0m\n\u001b[0;32m-> 1442\u001b[0;31m         \u001b[0mself\u001b[0m\u001b[0;34m.\u001b[0m\u001b[0m_engine\u001b[0m \u001b[0;34m=\u001b[0m \u001b[0mself\u001b[0m\u001b[0;34m.\u001b[0m\u001b[0m_make_engine\u001b[0m\u001b[0;34m(\u001b[0m\u001b[0mf\u001b[0m\u001b[0;34m,\u001b[0m \u001b[0mself\u001b[0m\u001b[0;34m.\u001b[0m\u001b[0mengine\u001b[0m\u001b[0;34m)\u001b[0m\u001b[0;34m\u001b[0m\u001b[0;34m\u001b[0m\u001b[0m\n\u001b[0m\u001b[1;32m   1443\u001b[0m \u001b[0;34m\u001b[0m\u001b[0m\n\u001b[1;32m   1444\u001b[0m     \u001b[0;32mdef\u001b[0m \u001b[0mclose\u001b[0m\u001b[0;34m(\u001b[0m\u001b[0mself\u001b[0m\u001b[0;34m)\u001b[0m \u001b[0;34m->\u001b[0m \u001b[0;32mNone\u001b[0m\u001b[0;34m:\u001b[0m\u001b[0;34m\u001b[0m\u001b[0;34m\u001b[0m\u001b[0m\n",
            "\u001b[0;32m/usr/local/lib/python3.10/dist-packages/pandas/io/parsers/readers.py\u001b[0m in \u001b[0;36m_make_engine\u001b[0;34m(self, f, engine)\u001b[0m\n\u001b[1;32m   1733\u001b[0m                 \u001b[0;32mif\u001b[0m \u001b[0;34m\"b\"\u001b[0m \u001b[0;32mnot\u001b[0m \u001b[0;32min\u001b[0m \u001b[0mmode\u001b[0m\u001b[0;34m:\u001b[0m\u001b[0;34m\u001b[0m\u001b[0;34m\u001b[0m\u001b[0m\n\u001b[1;32m   1734\u001b[0m                     \u001b[0mmode\u001b[0m \u001b[0;34m+=\u001b[0m \u001b[0;34m\"b\"\u001b[0m\u001b[0;34m\u001b[0m\u001b[0;34m\u001b[0m\u001b[0m\n\u001b[0;32m-> 1735\u001b[0;31m             self.handles = get_handle(\n\u001b[0m\u001b[1;32m   1736\u001b[0m                 \u001b[0mf\u001b[0m\u001b[0;34m,\u001b[0m\u001b[0;34m\u001b[0m\u001b[0;34m\u001b[0m\u001b[0m\n\u001b[1;32m   1737\u001b[0m                 \u001b[0mmode\u001b[0m\u001b[0;34m,\u001b[0m\u001b[0;34m\u001b[0m\u001b[0;34m\u001b[0m\u001b[0m\n",
            "\u001b[0;32m/usr/local/lib/python3.10/dist-packages/pandas/io/common.py\u001b[0m in \u001b[0;36mget_handle\u001b[0;34m(path_or_buf, mode, encoding, compression, memory_map, is_text, errors, storage_options)\u001b[0m\n\u001b[1;32m    854\u001b[0m         \u001b[0;32mif\u001b[0m \u001b[0mioargs\u001b[0m\u001b[0;34m.\u001b[0m\u001b[0mencoding\u001b[0m \u001b[0;32mand\u001b[0m \u001b[0;34m\"b\"\u001b[0m \u001b[0;32mnot\u001b[0m \u001b[0;32min\u001b[0m \u001b[0mioargs\u001b[0m\u001b[0;34m.\u001b[0m\u001b[0mmode\u001b[0m\u001b[0;34m:\u001b[0m\u001b[0;34m\u001b[0m\u001b[0;34m\u001b[0m\u001b[0m\n\u001b[1;32m    855\u001b[0m             \u001b[0;31m# Encoding\u001b[0m\u001b[0;34m\u001b[0m\u001b[0;34m\u001b[0m\u001b[0m\n\u001b[0;32m--> 856\u001b[0;31m             handle = open(\n\u001b[0m\u001b[1;32m    857\u001b[0m                 \u001b[0mhandle\u001b[0m\u001b[0;34m,\u001b[0m\u001b[0;34m\u001b[0m\u001b[0;34m\u001b[0m\u001b[0m\n\u001b[1;32m    858\u001b[0m                 \u001b[0mioargs\u001b[0m\u001b[0;34m.\u001b[0m\u001b[0mmode\u001b[0m\u001b[0;34m,\u001b[0m\u001b[0;34m\u001b[0m\u001b[0;34m\u001b[0m\u001b[0m\n",
            "\u001b[0;31mFileNotFoundError\u001b[0m: [Errno 2] No such file or directory: '/content/IMDB Dataset.csv'"
          ]
        }
      ],
      "source": [
        "import pandas as pd\n",
        "import numpy as np\n",
        "from sklearn.model_selection import train_test_split\n",
        "from sklearn.metrics import accuracy_score, classification_report\n",
        "from tensorflow.keras.preprocessing.text import Tokenizer\n",
        "from tensorflow.keras.preprocessing.sequence import pad_sequences\n",
        "from tensorflow.keras.models import Sequential\n",
        "from tensorflow.keras.layers import Embedding, LSTM, Dense, Dropout\n",
        "\n",
        "# Load the IMDB dataset from Kaggle\n",
        "df = pd.read_csv('/content/IMDB Dataset.csv')\n",
        "\n",
        "# Map the labels to 0 (negative) and 1 (positive)\n",
        "df['sentiment'] = df['sentiment'].map({'negative': 0, 'positive': 1})\n",
        "\n",
        "# Split the dataset into training and testing sets\n",
        "train_df, test_df = train_test_split(df, test_size=0.2, random_state=42)\n",
        "\n",
        "# Tokenize the text\n",
        "tokenizer = Tokenizer(num_words=5000)\n",
        "tokenizer.fit_on_texts(train_df['review'])\n",
        "\n",
        "X_train = tokenizer.texts_to_sequences(train_df['review'])\n",
        "X_test = tokenizer.texts_to_sequences(test_df['review'])\n",
        "\n",
        "# Pad sequences to the same length\n",
        "max_len = max(len(review) for review in X_train)\n",
        "X_train = pad_sequences(X_train, maxlen=max_len)\n",
        "X_test = pad_sequences(X_test, maxlen=max_len)\n",
        "\n",
        "# Convert labels to numpy arrays\n",
        "y_train = np.array(train_df['sentiment'])\n",
        "y_test = np.array(test_df['sentiment'])\n",
        "\n",
        "# Build the LSTM model\n",
        "vocab_size = len(tokenizer.word_index) + 1\n",
        "embedding_dim = 100\n",
        "\n",
        "model_lstm = Sequential()\n",
        "model_lstm.add(Embedding(vocab_size, embedding_dim, input_length=max_len))\n",
        "model_lstm.add(LSTM(128))\n",
        "model_lstm.add(Dense(64, activation='relu'))\n",
        "model_lstm.add(Dropout(0.5))\n",
        "model_lstm.add(Dense(1, activation='sigmoid'))\n",
        "\n",
        "model_lstm.compile(loss='binary_crossentropy', optimizer='adam', metrics=['accuracy'])\n",
        "\n",
        "# Train the model\n",
        "batch_size = 256\n",
        "epochs = 5\n",
        "\n",
        "model_lstm.fit(X_train, y_train, batch_size=batch_size, epochs=epochs, validation_data=(X_test, y_test))\n",
        "\n",
        "y_pred_prob = model_lstm.predict(X_test)\n",
        "y_pred = np.where(y_pred_prob >= 0.5, 1, 0)\n",
        "accuracy = accuracy_score(y_test, y_pred)\n",
        "classification_rep = classification_report(y_test, y_pred)\n",
        "\n",
        "print(f\"Accuracy: {accuracy:.4f}\")\n",
        "print(\"Classification Report:\")\n",
        "print(classification_rep)\n",
        "\n"
      ]
    },
    {
      "cell_type": "code",
      "execution_count": null,
      "metadata": {
        "id": "FHgkQV_Sh73i"
      },
      "outputs": [],
      "source": [
        "type(classification_report(y_test, y_pred))"
      ]
    },
    {
      "cell_type": "code",
      "execution_count": null,
      "metadata": {
        "colab": {
          "base_uri": "https://localhost:8080/"
        },
        "id": "mSHlTLnFf9IF",
        "outputId": "69b4a159-bdbd-4b73-a17c-03ab5f4de46a"
      },
      "outputs": [
        {
          "name": "stdout",
          "output_type": "stream",
          "text": [
            "313/313 [==============================] - 53s 170ms/step\n",
            "Precision: [0.5076012651770228]\n",
            "Recall: [0.9872990672752531]\n",
            "F1-score: [0.6704851752021563]\n",
            "Accuracy: [0.511]\n"
          ]
        }
      ],
      "source": [
        "from sklearn.metrics import classification_report, accuracy_score,precision_score,f1_score, recall_score\n",
        "\n",
        "y_pred_prob = model.predict(X_test)\n",
        "y_pred = np.where(y_pred_prob >= 0.5, 1, 0)\n",
        "accuracy = accuracy_score(y_test, y_pred)\n",
        "classification_rep = classification_report(y_test, y_pred)\n",
        "\n",
        "precision_list = []\n",
        "recall_list = []\n",
        "f1_list = []\n",
        "accuracy_list = []\n",
        "\n",
        "\n",
        "\n",
        "accuracy = accuracy_score(y_test, y_pred)\n",
        "precision = precision_score(y_test, y_pred)\n",
        "f1_score = f1_score(y_test, y_pred)\n",
        "recall = recall_score(y_test, y_pred)\n",
        "\n",
        "accuracy_list.append(accuracy)\n",
        "precision_list.append(precision)\n",
        "recall_list.append(recall)\n",
        "f1_list.append(f1_score)\n",
        "\n",
        "print(f\"Precision: {precision_list}\")\n",
        "print(f\"Recall: {recall_list}\")\n",
        "print(f\"F1-score: {f1_list}\")\n",
        "print(f\"Accuracy: {accuracy_list}\")\n"
      ]
    },
    {
      "cell_type": "code",
      "execution_count": null,
      "metadata": {
        "colab": {
          "base_uri": "https://localhost:8080/"
        },
        "id": "tXv0NzqEgzqF",
        "outputId": "5ed243b8-99e4-4b73-86c6-c41d2167505c"
      },
      "outputs": [
        {
          "name": "stdout",
          "output_type": "stream",
          "text": [
            "313/313 [==============================] - 8s 26ms/step\n",
            "Precision: [0.8776269295145992, 0.8704468644386031]\n",
            "Recall: [0.9364953363762651, 0.9200238142488589]\n",
            "F1-score: [0.9061059907834103, 0.8945489628557646]\n",
            "Accuracy: [0.9022, 0.8907]\n"
          ]
        }
      ],
      "source": [
        "from sklearn.metrics import classification_report, accuracy_score,precision_score,f1_score, recall_score\n",
        "\n",
        "y_pred_prob = model_lstm.predict(X_test)\n",
        "y_pred = np.where(y_pred_prob >= 0.5, 1, 0)\n",
        "accuracy = accuracy_score(y_test, y_pred)\n",
        "classification_rep = classification_report(y_test, y_pred)\n",
        "\n",
        "\n",
        "\n",
        "accuracy = accuracy_score(y_test, y_pred)\n",
        "precision = precision_score(y_test, y_pred)\n",
        "f1_score = f1_score(y_test, y_pred)\n",
        "recall = recall_score(y_test, y_pred)\n",
        "\n",
        "accuracy_list.append(accuracy)\n",
        "precision_list.append(precision)\n",
        "recall_list.append(recall)\n",
        "f1_list.append(f1_score)\n",
        "\n",
        "print(f\"Precision: {precision_list}\")\n",
        "print(f\"Recall: {recall_list}\")\n",
        "print(f\"F1-score: {f1_list}\")\n",
        "print(f\"Accuracy: {accuracy_list}\")\n"
      ]
    },
    {
      "cell_type": "code",
      "execution_count": null,
      "metadata": {
        "colab": {
          "base_uri": "https://localhost:8080/"
        },
        "id": "-I5kO-SckPJt",
        "outputId": "4cb75f44-99c2-4cd3-a9d3-f4024477cadd"
      },
      "outputs": [
        {
          "data": {
            "text/plain": [
              "[0.8907]"
            ]
          },
          "execution_count": 22,
          "metadata": {},
          "output_type": "execute_result"
        }
      ],
      "source": []
    },
    {
      "cell_type": "code",
      "execution_count": null,
      "metadata": {
        "colab": {
          "base_uri": "https://localhost:8080/"
        },
        "id": "ZivhRnsIjOpC",
        "outputId": "08595529-b345-4531-bf84-c45e02ea3760"
      },
      "outputs": [
        {
          "name": "stdout",
          "output_type": "stream",
          "text": [
            "313/313 [==============================] - 2s 5ms/step\n",
            "Precision: [0.8776269295145992]\n",
            "Recall: [0.9364953363762651]\n",
            "F1-score: [0.9061059907834103]\n",
            "Accuracy: [0.9022]\n"
          ]
        }
      ],
      "source": [
        "from sklearn.metrics import classification_report, accuracy_score,precision_score,f1_score, recall_score\n",
        "\n",
        "y_pred_prob = model_cnn.predict(X_test)\n",
        "y_pred = np.where(y_pred_prob >= 0.5, 1, 0)\n",
        "accuracy = accuracy_score(y_test, y_pred)\n",
        "classification_rep = classification_report(y_test, y_pred)\n",
        "\n",
        "precision_list = []\n",
        "recall_list = []\n",
        "f1_list = []\n",
        "accuracy_list = []\n",
        "\n",
        "\n",
        "\n",
        "accuracy = accuracy_score(y_test, y_pred)\n",
        "precision = precision_score(y_test, y_pred)\n",
        "f1_score = f1_score(y_test, y_pred)\n",
        "recall = recall_score(y_test, y_pred)\n",
        "\n",
        "accuracy_list.append(accuracy)\n",
        "precision_list.append(precision)\n",
        "recall_list.append(recall)\n",
        "f1_list.append(f1_score)\n",
        "\n",
        "print(f\"Precision: {precision_list}\")\n",
        "print(f\"Recall: {recall_list}\")\n",
        "print(f\"F1-score: {f1_list}\")\n",
        "print(f\"Accuracy: {accuracy_list}\")\n"
      ]
    },
    {
      "cell_type": "code",
      "execution_count": null,
      "metadata": {
        "colab": {
          "base_uri": "https://localhost:8080/"
        },
        "id": "J7FC568Tk-B2",
        "outputId": "99628f9f-c74f-43b6-fa67-9e9339d7656f"
      },
      "outputs": [
        {
          "name": "stdout",
          "output_type": "stream",
          "text": [
            "[0.9022, 0.8907]\n",
            "[0.8776269295145992, 0.8704468644386031]\n",
            "[0.9364953363762651, 0.9200238142488589]\n",
            "[0.9061059907834103, 0.8945489628557646]\n"
          ]
        }
      ],
      "source": [
        "print(accuracy_list)\n",
        "print(precision_list)\n",
        "print(recall_list)\n",
        "print(f1_list)"
      ]
    },
    {
      "cell_type": "code",
      "execution_count": null,
      "metadata": {
        "colab": {
          "base_uri": "https://localhost:8080/",
          "height": 1000
        },
        "id": "1B8Ebyo7lQPP",
        "outputId": "7cf2c300-94e0-4114-d106-b2173675755b"
      },
      "outputs": [
        {
          "data": {
            "image/png": "[encoded data removed]",
            "text/plain": [
              "<Figure size 640x480 with 1 Axes>"
            ]
          },
          "metadata": {},
          "output_type": "display_data"
        },
        {
          "data": {
            "image/png": "[encoded data removed]",
            "text/plain": [
              "<Figure size 640x480 with 1 Axes>"
            ]
          },
          "metadata": {},
          "output_type": "display_data"
        },
        {
          "data": {
            "image/png": "[encoded data removed]",
            "text/plain": [
              "<Figure size 640x480 with 1 Axes>"
            ]
          },
          "metadata": {},
          "output_type": "display_data"
        },
        {
          "data": {
            "image/png": "[encoded data removed]",
            "text/plain": [
              "<Figure size 640x480 with 1 Axes>"
            ]
          },
          "metadata": {},
          "output_type": "display_data"
        }
      ],
      "source": [
        "import matplotlib.pyplot as plt\n",
        "\n",
        "# Define the data to plot\n",
        "accuracy_data = [(accuracy_list[0], accuracy_list[1]), ('CNN', 'LSTM')]\n",
        "precision_data = [(precision_list[0], precision_list[1]), ('CNN', 'LSTM')]\n",
        "recall_data = [(recall_list[0], recall_list[1]), ('CNN', 'LSTM')]\n",
        "f1_data = [(f1_list[0], f1_list[1]), ('CNN', 'LSTM')]\n",
        "\n",
        "# Create a bar graph for accuracy\n",
        "plt.bar([0, 1], accuracy_data[0], tick_label=accuracy_data[1])\n",
        "plt.title('Accuracy')\n",
        "plt.show()\n",
        "\n",
        "# Create a bar graph for precision\n",
        "plt.bar([0, 1], precision_data[0], tick_label=precision_data[1])\n",
        "plt.title('Precision')\n",
        "plt.show()\n",
        "\n",
        "# Create a bar graph for recall\n",
        "plt.bar([0, 1], recall_data[0], tick_label=recall_data[1])\n",
        "plt.title('Recall')\n",
        "plt.show()\n",
        "\n",
        "# Create a bar graph for F1 score\n",
        "plt.bar([0, 1], f1_data[0], tick_label=f1_data[1])\n",
        "plt.title('F1 Score')\n",
        "plt.show()\n"
      ]
    },
    {
      "cell_type": "code",
      "execution_count": null,
      "metadata": {
        "colab": {
          "base_uri": "https://localhost:8080/"
        },
        "id": "nmqFBgIent7w",
        "outputId": "1c46aa47-7f1f-4a18-ef50-23f89e4f3c94"
      },
      "outputs": [
        {
          "name": "stdout",
          "output_type": "stream",
          "text": [
            "Looking in indexes: https://pypi.org/simple, https://us-python.pkg.dev/colab-wheels/public/simple/\n",
            "Collecting transformers\n",
            "  Downloading transformers-4.29.1-py3-none-any.whl (7.1 MB)\n",
            "\u001b[2K     \u001b[90m━━━━━━━━━━━━━━━━━━━━━━━━━━━━━━━━━━━━━━━━\u001b[0m \u001b[32m7.1/7.1 MB\u001b[0m \u001b[31m16.5 MB/s\u001b[0m eta \u001b[36m0:00:00\u001b[0m\n",
            "\u001b[?25hRequirement already satisfied: filelock in /usr/local/lib/python3.10/dist-packages (from transformers) (3.12.0)\n",
            "Collecting huggingface-hub<1.0,>=0.14.1 (from transformers)\n",
            "  Downloading huggingface_hub-0.14.1-py3-none-any.whl (224 kB)\n",
            "\u001b[2K     \u001b[90m━━━━━━━━━━━━━━━━━━━━━━━━━━━━━━━━━━━━━━\u001b[0m \u001b[32m224.5/224.5 kB\u001b[0m \u001b[31m15.2 MB/s\u001b[0m eta \u001b[36m0:00:00\u001b[0m\n",
            "\u001b[?25hRequirement already satisfied: numpy>=1.17 in /usr/local/lib/python3.10/dist-packages (from transformers) (1.22.4)\n",
            "Requirement already satisfied: packaging>=20.0 in /usr/local/lib/python3.10/dist-packages (from transformers) (23.1)\n",
            "Requirement already satisfied: pyyaml>=5.1 in /usr/local/lib/python3.10/dist-packages (from transformers) (6.0)\n",
            "Requirement already satisfied: regex!=2019.12.17 in /usr/local/lib/python3.10/dist-packages (from transformers) (2022.10.31)\n",
            "Requirement already satisfied: requests in /usr/local/lib/python3.10/dist-packages (from transformers) (2.27.1)\n",
            "Collecting tokenizers!=0.11.3,<0.14,>=0.11.1 (from transformers)\n",
            "  Downloading tokenizers-0.13.3-cp310-cp310-manylinux_2_17_x86_64.manylinux2014_x86_64.whl (7.8 MB)\n",
            "\u001b[2K     \u001b[90m━━━━━━━━━━━━━━━━━━━━━━━━━━━━━━━━━━━━━━━━\u001b[0m \u001b[32m7.8/7.8 MB\u001b[0m \u001b[31m37.4 MB/s\u001b[0m eta \u001b[36m0:00:00\u001b[0m\n",
            "\u001b[?25hRequirement already satisfied: tqdm>=4.27 in /usr/local/lib/python3.10/dist-packages (from transformers) (4.65.0)\n",
            "Requirement already satisfied: fsspec in /usr/local/lib/python3.10/dist-packages (from huggingface-hub<1.0,>=0.14.1->transformers) (2023.4.0)\n",
            "Requirement already satisfied: typing-extensions>=3.7.4.3 in /usr/local/lib/python3.10/dist-packages (from huggingface-hub<1.0,>=0.14.1->transformers) (4.5.0)\n",
            "Requirement already satisfied: urllib3<1.27,>=1.21.1 in /usr/local/lib/python3.10/dist-packages (from requests->transformers) (1.26.15)\n",
            "Requirement already satisfied: certifi>=2017.4.17 in /usr/local/lib/python3.10/dist-packages (from requests->transformers) (2022.12.7)\n",
            "Requirement already satisfied: charset-normalizer~=2.0.0 in /usr/local/lib/python3.10/dist-packages (from requests->transformers) (2.0.12)\n",
            "Requirement already satisfied: idna<4,>=2.5 in /usr/local/lib/python3.10/dist-packages (from requests->transformers) (3.4)\n",
            "Installing collected packages: tokenizers, huggingface-hub, transformers\n",
            "Successfully installed huggingface-hub-0.14.1 tokenizers-0.13.3 transformers-4.29.1\n"
          ]
        }
      ],
      "source": [
        "!pip install transformers"
      ]
    },
    {
      "cell_type": "code",
      "execution_count": null,
      "metadata": {
        "id": "eFwCY4RTYgYF"
      },
      "outputs": [],
      "source": []
    },
    {
      "cell_type": "code",
      "execution_count": null,
      "metadata": {
        "id": "zWpR_mluYgHR"
      },
      "outputs": [],
      "source": []
    },
    {
      "cell_type": "markdown",
      "metadata": {
        "id": "RQp0_HR2cQDW"
      },
      "source": [
        "#Rotten Tomatoes Dataset"
      ]
    },
    {
      "cell_type": "code",
      "execution_count": null,
      "metadata": {
        "id": "Eyjar5hzoodc"
      },
      "outputs": [],
      "source": [
        "import pandas as pd\n",
        "import numpy as np\n",
        "from sklearn.model_selection import train_test_split\n",
        "from sklearn.metrics import accuracy_score, classification_report\n",
        "from tensorflow.keras.preprocessing.text import Tokenizer\n",
        "from tensorflow.keras.preprocessing.sequence import pad_sequences\n",
        "from tensorflow.keras.models import Sequential\n",
        "from tensorflow.keras.layers import Embedding, Conv1D, GlobalMaxPooling1D, Dense, Dropout\n",
        "\n",
        "import pandas as pd\n",
        "import numpy as np\n",
        "from sklearn.model_selection import train_test_split\n",
        "from sklearn.metrics import accuracy_score, classification_report\n",
        "from tensorflow.keras.preprocessing.text import Tokenizer\n",
        "from tensorflow.keras.preprocessing.sequence import pad_sequences\n",
        "from tensorflow.keras.models import Sequential\n",
        "from tensorflow.keras.layers import Embedding, LSTM, Dense, Dropout\n",
        "import pandas as pd\n",
        "import numpy as np\n",
        "from sklearn.model_selection import train_test_split\n",
        "from sklearn.metrics import accuracy_score, classification_report\n",
        "from tensorflow.keras.preprocessing.text import Tokenizer\n",
        "from tensorflow.keras.preprocessing.sequence import pad_sequences\n",
        "from tensorflow.keras.models import Sequential\n",
        "from tensorflow.keras.layers import Embedding, Conv1D, GlobalMaxPooling1D, Dense, Dropout"
      ]
    },
    {
      "cell_type": "code",
      "execution_count": null,
      "metadata": {
        "id": "QzWmt4A_caQU"
      },
      "outputs": [],
      "source": [
        "df_critic = pd.read_csv('/content/rotten_tomatoes_critic_reviews.csv')"
      ]
    },
    {
      "cell_type": "code",
      "execution_count": null,
      "metadata": {
        "colab": {
          "base_uri": "https://localhost:8080/",
          "height": 887
        },
        "id": "pwUjdsGpcaaq",
        "outputId": "e03286df-7e34-4eed-83db-7b4a56258491"
      },
      "outputs": [
        {
          "data": {
            "text/html": [
              "\n",
              "  <div id=\"df-8998cdb8-55bf-41a0-b8ca-b0ca9a77b765\">\n",
              "    <div class=\"colab-df-container\">\n",
              "      <div>\n",
              "<style scoped>\n",
              "    .dataframe tbody tr th:only-of-type {\n",
              "        vertical-align: middle;\n",
              "    }\n",
              "\n",
              "    .dataframe tbody tr th {\n",
              "        vertical-align: top;\n",
              "    }\n",
              "\n",
              "    .dataframe thead th {\n",
              "        text-align: right;\n",
              "    }\n",
              "</style>\n",
              "<table border=\"1\" class=\"dataframe\">\n",
              "  <thead>\n",
              "    <tr style=\"text-align: right;\">\n",
              "      <th></th>\n",
              "      <th>rotten_tomatoes_link</th>\n",
              "      <th>critic_name</th>\n",
              "      <th>top_critic</th>\n",
              "      <th>publisher_name</th>\n",
              "      <th>review_type</th>\n",
              "      <th>review_score</th>\n",
              "      <th>review_date</th>\n",
              "      <th>review_content</th>\n",
              "    </tr>\n",
              "  </thead>\n",
              "  <tbody>\n",
              "    <tr>\n",
              "      <th>3</th>\n",
              "      <td>m/0814255</td>\n",
              "      <td>Ben McEachen</td>\n",
              "      <td>False</td>\n",
              "      <td>Sunday Mail (Australia)</td>\n",
              "      <td>Fresh</td>\n",
              "      <td>3.5/5</td>\n",
              "      <td>2010-02-09</td>\n",
              "      <td>Whether audiences will get behind The Lightnin...</td>\n",
              "    </tr>\n",
              "    <tr>\n",
              "      <th>6</th>\n",
              "      <td>m/0814255</td>\n",
              "      <td>Nick Schager</td>\n",
              "      <td>False</td>\n",
              "      <td>Slant Magazine</td>\n",
              "      <td>Rotten</td>\n",
              "      <td>1/4</td>\n",
              "      <td>2010-02-10</td>\n",
              "      <td>Harry Potter knockoffs don't come more transpa...</td>\n",
              "    </tr>\n",
              "    <tr>\n",
              "      <th>7</th>\n",
              "      <td>m/0814255</td>\n",
              "      <td>Bill Goodykoontz</td>\n",
              "      <td>True</td>\n",
              "      <td>Arizona Republic</td>\n",
              "      <td>Fresh</td>\n",
              "      <td>3.5/5</td>\n",
              "      <td>2010-02-10</td>\n",
              "      <td>Percy Jackson isn't a great movie, but it's a ...</td>\n",
              "    </tr>\n",
              "    <tr>\n",
              "      <th>8</th>\n",
              "      <td>m/0814255</td>\n",
              "      <td>Jordan Hoffman</td>\n",
              "      <td>False</td>\n",
              "      <td>UGO</td>\n",
              "      <td>Fresh</td>\n",
              "      <td>B</td>\n",
              "      <td>2010-02-10</td>\n",
              "      <td>Fun, brisk and imaginative</td>\n",
              "    </tr>\n",
              "    <tr>\n",
              "      <th>9</th>\n",
              "      <td>m/0814255</td>\n",
              "      <td>Jim Schembri</td>\n",
              "      <td>True</td>\n",
              "      <td>The Age (Australia)</td>\n",
              "      <td>Fresh</td>\n",
              "      <td>3/5</td>\n",
              "      <td>2010-02-10</td>\n",
              "      <td>Crammed with dragons, set-destroying fights an...</td>\n",
              "    </tr>\n",
              "    <tr>\n",
              "      <th>...</th>\n",
              "      <td>...</td>\n",
              "      <td>...</td>\n",
              "      <td>...</td>\n",
              "      <td>...</td>\n",
              "      <td>...</td>\n",
              "      <td>...</td>\n",
              "      <td>...</td>\n",
              "      <td>...</td>\n",
              "    </tr>\n",
              "    <tr>\n",
              "      <th>1130004</th>\n",
              "      <td>m/zulu</td>\n",
              "      <td>Tony Sloman</td>\n",
              "      <td>False</td>\n",
              "      <td>Radio Times</td>\n",
              "      <td>Fresh</td>\n",
              "      <td>5/5</td>\n",
              "      <td>2017-07-10</td>\n",
              "      <td>The movie is a revelation.</td>\n",
              "    </tr>\n",
              "    <tr>\n",
              "      <th>1130013</th>\n",
              "      <td>m/zulu_dawn</td>\n",
              "      <td>Ken Hanke</td>\n",
              "      <td>False</td>\n",
              "      <td>Mountain Xpress (Asheville, NC)</td>\n",
              "      <td>Fresh</td>\n",
              "      <td>3.5/5</td>\n",
              "      <td>2007-03-07</td>\n",
              "      <td>Seen today, it's not only a startling indictme...</td>\n",
              "    </tr>\n",
              "    <tr>\n",
              "      <th>1130014</th>\n",
              "      <td>m/zulu_dawn</td>\n",
              "      <td>Dennis Schwartz</td>\n",
              "      <td>False</td>\n",
              "      <td>Dennis Schwartz Movie Reviews</td>\n",
              "      <td>Fresh</td>\n",
              "      <td>B+</td>\n",
              "      <td>2010-09-16</td>\n",
              "      <td>A rousing visual spectacle that's a prequel of...</td>\n",
              "    </tr>\n",
              "    <tr>\n",
              "      <th>1130015</th>\n",
              "      <td>m/zulu_dawn</td>\n",
              "      <td>Christopher Lloyd</td>\n",
              "      <td>False</td>\n",
              "      <td>Sarasota Herald-Tribune</td>\n",
              "      <td>Rotten</td>\n",
              "      <td>3.5/5</td>\n",
              "      <td>2011-02-28</td>\n",
              "      <td>A simple two-act story: Prelude to war, and th...</td>\n",
              "    </tr>\n",
              "    <tr>\n",
              "      <th>1130016</th>\n",
              "      <td>m/zulu_dawn</td>\n",
              "      <td>Brent McKnight</td>\n",
              "      <td>False</td>\n",
              "      <td>The Last Thing I See</td>\n",
              "      <td>Rotten</td>\n",
              "      <td>C</td>\n",
              "      <td>2020-07-09</td>\n",
              "      <td>Rides the line between being a pure artifact o...</td>\n",
              "    </tr>\n",
              "  </tbody>\n",
              "</table>\n",
              "<p>752734 rows × 8 columns</p>\n",
              "</div>\n",
              "      <button class=\"colab-df-convert\" onclick=\"convertToInteractive('df-8998cdb8-55bf-41a0-b8ca-b0ca9a77b765')\"\n",
              "              title=\"Convert this dataframe to an interactive table.\"\n",
              "              style=\"display:none;\">\n",
              "        \n",
              "  <svg xmlns=\"http://www.w3.org/2000/svg\" height=\"24px\"viewBox=\"0 0 24 24\"\n",
              "       width=\"24px\">\n",
              "    <path d=\"M0 0h24v24H0V0z\" fill=\"none\"/>\n",
              "    <path d=\"M18.56 5.44l.94 2.06.94-2.06 2.06-.94-2.06-.94-.94-2.06-.94 2.06-2.06.94zm-11 1L8.5 8.5l.94-2.06 2.06-.94-2.06-.94L8.5 2.5l-.94 2.06-2.06.94zm10 10l.94 2.06.94-2.06 2.06-.94-2.06-.94-.94-2.06-.94 2.06-2.06.94z\"/><path d=\"M17.41 7.96l-1.37-1.37c-.4-.4-.92-.59-1.43-.59-.52 0-1.04.2-1.43.59L10.3 9.45l-7.72 7.72c-.78.78-.78 2.05 0 2.83L4 21.41c.39.39.9.59 1.41.59.51 0 1.02-.2 1.41-.59l7.78-7.78 2.81-2.81c.8-.78.8-2.07 0-2.86zM5.41 20L4 18.59l7.72-7.72 1.47 1.35L5.41 20z\"/>\n",
              "  </svg>\n",
              "      </button>\n",
              "      \n",
              "  <style>\n",
              "    .colab-df-container {\n",
              "      display:flex;\n",
              "      flex-wrap:wrap;\n",
              "      gap: 12px;\n",
              "    }\n",
              "\n",
              "    .colab-df-convert {\n",
              "      background-color: #E8F0FE;\n",
              "      border: none;\n",
              "      border-radius: 50%;\n",
              "      cursor: pointer;\n",
              "      display: none;\n",
              "      fill: #1967D2;\n",
              "      height: 32px;\n",
              "      padding: 0 0 0 0;\n",
              "      width: 32px;\n",
              "    }\n",
              "\n",
              "    .colab-df-convert:hover {\n",
              "      background-color: #E2EBFA;\n",
              "      box-shadow: 0px 1px 2px rgba(60, 64, 67, 0.3), 0px 1px 3px 1px rgba(60, 64, 67, 0.15);\n",
              "      fill: #174EA6;\n",
              "    }\n",
              "\n",
              "    [theme=dark] .colab-df-convert {\n",
              "      background-color: #3B4455;\n",
              "      fill: #D2E3FC;\n",
              "    }\n",
              "\n",
              "    [theme=dark] .colab-df-convert:hover {\n",
              "      background-color: #434B5C;\n",
              "      box-shadow: 0px 1px 3px 1px rgba(0, 0, 0, 0.15);\n",
              "      filter: drop-shadow(0px 1px 2px rgba(0, 0, 0, 0.3));\n",
              "      fill: #FFFFFF;\n",
              "    }\n",
              "  </style>\n",
              "\n",
              "      <script>\n",
              "        const buttonEl =\n",
              "          document.querySelector('#df-8998cdb8-55bf-41a0-b8ca-b0ca9a77b765 button.colab-df-convert');\n",
              "        buttonEl.style.display =\n",
              "          google.colab.kernel.accessAllowed ? 'block' : 'none';\n",
              "\n",
              "        async function convertToInteractive(key) {\n",
              "          const element = document.querySelector('#df-8998cdb8-55bf-41a0-b8ca-b0ca9a77b765');\n",
              "          const dataTable =\n",
              "            await google.colab.kernel.invokeFunction('convertToInteractive',\n",
              "                                                     [key], {});\n",
              "          if (!dataTable) return;\n",
              "\n",
              "          const docLinkHtml = 'Like what you see? Visit the ' +\n",
              "            '<a target=\"_blank\" href=https://colab.research.google.com/notebooks/data_table.ipynb>data table notebook</a>'\n",
              "            + ' to learn more about interactive tables.';\n",
              "          element.innerHTML = '';\n",
              "          dataTable['output_type'] = 'display_data';\n",
              "          await google.colab.output.renderOutput(dataTable, element);\n",
              "          const docLink = document.createElement('div');\n",
              "          docLink.innerHTML = docLinkHtml;\n",
              "          element.appendChild(docLink);\n",
              "        }\n",
              "      </script>\n",
              "    </div>\n",
              "  </div>\n",
              "  "
            ],
            "text/plain": [
              "        rotten_tomatoes_link        critic_name  top_critic  \\\n",
              "3                  m/0814255       Ben McEachen       False   \n",
              "6                  m/0814255       Nick Schager       False   \n",
              "7                  m/0814255   Bill Goodykoontz        True   \n",
              "8                  m/0814255     Jordan Hoffman       False   \n",
              "9                  m/0814255       Jim Schembri        True   \n",
              "...                      ...                ...         ...   \n",
              "1130004               m/zulu        Tony Sloman       False   \n",
              "1130013          m/zulu_dawn          Ken Hanke       False   \n",
              "1130014          m/zulu_dawn    Dennis Schwartz       False   \n",
              "1130015          m/zulu_dawn  Christopher Lloyd       False   \n",
              "1130016          m/zulu_dawn     Brent McKnight       False   \n",
              "\n",
              "                          publisher_name review_type review_score review_date  \\\n",
              "3                Sunday Mail (Australia)       Fresh        3.5/5  2010-02-09   \n",
              "6                         Slant Magazine      Rotten          1/4  2010-02-10   \n",
              "7                       Arizona Republic       Fresh        3.5/5  2010-02-10   \n",
              "8                                    UGO       Fresh            B  2010-02-10   \n",
              "9                    The Age (Australia)       Fresh          3/5  2010-02-10   \n",
              "...                                  ...         ...          ...         ...   \n",
              "1130004                      Radio Times       Fresh          5/5  2017-07-10   \n",
              "1130013  Mountain Xpress (Asheville, NC)       Fresh        3.5/5  2007-03-07   \n",
              "1130014    Dennis Schwartz Movie Reviews       Fresh           B+  2010-09-16   \n",
              "1130015          Sarasota Herald-Tribune      Rotten        3.5/5  2011-02-28   \n",
              "1130016             The Last Thing I See      Rotten            C  2020-07-09   \n",
              "\n",
              "                                            review_content  \n",
              "3        Whether audiences will get behind The Lightnin...  \n",
              "6        Harry Potter knockoffs don't come more transpa...  \n",
              "7        Percy Jackson isn't a great movie, but it's a ...  \n",
              "8                               Fun, brisk and imaginative  \n",
              "9        Crammed with dragons, set-destroying fights an...  \n",
              "...                                                    ...  \n",
              "1130004                         The movie is a revelation.  \n",
              "1130013  Seen today, it's not only a startling indictme...  \n",
              "1130014  A rousing visual spectacle that's a prequel of...  \n",
              "1130015  A simple two-act story: Prelude to war, and th...  \n",
              "1130016  Rides the line between being a pure artifact o...  \n",
              "\n",
              "[752734 rows x 8 columns]"
            ]
          },
          "execution_count": 9,
          "metadata": {},
          "output_type": "execute_result"
        }
      ],
      "source": [
        "df_critic = df_critic.dropna()\n",
        "df_critic"
      ]
    },
    {
      "cell_type": "code",
      "execution_count": null,
      "metadata": {
        "id": "qdXlAuKxcajy"
      },
      "outputs": [],
      "source": [
        "df  = df_critic[['review_content', 'review_type']]"
      ]
    },
    {
      "cell_type": "code",
      "execution_count": null,
      "metadata": {
        "colab": {
          "base_uri": "https://localhost:8080/"
        },
        "id": "lcfRNjNKqsaQ",
        "outputId": "7c14f744-2061-4b7d-f898-2fca13421a28"
      },
      "outputs": [
        {
          "name": "stderr",
          "output_type": "stream",
          "text": [
            "<ipython-input-13-31f99de00887>:2: SettingWithCopyWarning: \n",
            "A value is trying to be set on a copy of a slice from a DataFrame.\n",
            "Try using .loc[row_indexer,col_indexer] = value instead\n",
            "\n",
            "See the caveats in the documentation: https://pandas.pydata.org/pandas-docs/stable/user_guide/indexing.html#returning-a-view-versus-a-copy\n",
            "  df['review_type'] = df['review_type'].map({'Rotten': 0, 'Fresh': 1})\n"
          ]
        }
      ],
      "source": [
        "\n",
        "# Map the labels to 0 (negative) and 1 (positive)\n",
        "df['review_type'] = df['review_type'].map({'Rotten': 0, 'Fresh': 1})"
      ]
    },
    {
      "cell_type": "markdown",
      "metadata": {
        "id": "XyfGte_Facdh"
      },
      "source": [
        "#CNN"
      ]
    },
    {
      "cell_type": "code",
      "execution_count": null,
      "metadata": {
        "colab": {
          "base_uri": "https://localhost:8080/"
        },
        "id": "zMH3xrgeIBYJ",
        "outputId": "73d2596b-5196-48f1-e86d-e06b69040ce1"
      },
      "outputs": [
        {
          "output_type": "stream",
          "name": "stdout",
          "text": [
            "Epoch 1/3\n",
            "2353/2353 [==============================] - 55s 23ms/step - loss: 0.4268 - accuracy: 0.7980 - val_loss: 0.3795 - val_accuracy: 0.8249\n",
            "Epoch 2/3\n",
            "2353/2353 [==============================] - 26s 11ms/step - loss: 0.3574 - accuracy: 0.8399 - val_loss: 0.3697 - val_accuracy: 0.8313\n",
            "Epoch 3/3\n",
            "2353/2353 [==============================] - 24s 10ms/step - loss: 0.3122 - accuracy: 0.8629 - val_loss: 0.3720 - val_accuracy: 0.8339\n"
          ]
        },
        {
          "output_type": "execute_result",
          "data": {
            "text/plain": [
              "<keras.callbacks.History at 0x7ff9cf4830d0>"
            ]
          },
          "metadata": {},
          "execution_count": 30
        }
      ],
      "source": [
        "import pandas as pd\n",
        "import numpy as np\n",
        "from sklearn.model_selection import train_test_split\n",
        "from sklearn.metrics import accuracy_score, classification_report\n",
        "from tensorflow.keras.preprocessing.text import Tokenizer\n",
        "from tensorflow.keras.preprocessing.sequence import pad_sequences\n",
        "from tensorflow.keras.models import Sequential\n",
        "from tensorflow.keras.layers import Embedding, Conv1D, GlobalMaxPooling1D, Dense, Dropout\n",
        "\n",
        "# Load the IMDB dataset from Kaggle\n",
        "# df = pd.read_csv('/content/IMDB Dataset.csv')\n",
        "\n",
        "# Map the labels to 0 (negative) and 1 (positive)\n",
        "# df['review_type'] = df['review_type'].map({'Rotten': 0, 'Fresh': 1})\n",
        "\n",
        "# Split the dataset into training and testing sets\n",
        "train_df, test_df = train_test_split(df, test_size=0.2, random_state=42)\n",
        "\n",
        "# Tokenize the text\n",
        "tokenizer = Tokenizer(num_words=5000)\n",
        "tokenizer.fit_on_texts(train_df['review_content'])\n",
        "\n",
        "X_train = tokenizer.texts_to_sequences(train_df['review_content'])\n",
        "X_test = tokenizer.texts_to_sequences(test_df['review_content'])\n",
        "\n",
        "# Pad sequences to the same length\n",
        "max_len = max(len(review) for review in X_train)\n",
        "\n",
        "X_train = pad_sequences(X_train, maxlen=max_len)\n",
        "X_test = pad_sequences(X_test, maxlen=max_len)\n",
        "\n",
        "# Convert labels to numpy arrays\n",
        "y_train = np.array(train_df['review_type'])\n",
        "y_test = np.array(test_df['review_type'])\n",
        "\n",
        "# Build the CNN model\n",
        "vocab_size = len(tokenizer.word_index) + 1\n",
        "embedding_dim = 100\n",
        "\n",
        "model_cnn = Sequential()\n",
        "model_cnn.add(Embedding(vocab_size, embedding_dim, input_length=max_len))\n",
        "model_cnn.add(Conv1D(128, 5, activation='relu'))\n",
        "model_cnn.add(GlobalMaxPooling1D())\n",
        "model_cnn.add(Dense(64, activation='relu'))\n",
        "model_cnn.add(Dropout(0.5))\n",
        "model_cnn.add(Dense(1, activation='sigmoid'))\n",
        "\n",
        "model_cnn.compile(loss='binary_crossentropy', optimizer='adam', metrics=['accuracy'])\n",
        "\n",
        "# Train the model\n",
        "batch_size = 256\n",
        "epochs = 3\n",
        "\n",
        "model_cnn.fit(X_train, y_train, batch_size=batch_size, epochs=epochs, validation_data=(X_test, y_test))\n",
        "\n",
        "# Evaluate the model\n"
      ]
    },
    {
      "cell_type": "markdown",
      "metadata": {
        "id": "_MvczoP9akBt"
      },
      "source": [
        "#LSTM"
      ]
    },
    {
      "cell_type": "code",
      "execution_count": null,
      "metadata": {
        "id": "T__-2flHai7u",
        "outputId": "228a6683-63c6-4e40-d78b-709db92148e2",
        "colab": {
          "base_uri": "https://localhost:8080/"
        }
      },
      "outputs": [
        {
          "output_type": "stream",
          "name": "stdout",
          "text": [
            "Epoch 1/5\n",
            "2353/2353 [==============================] - 64s 26ms/step - loss: 0.4236 - accuracy: 0.8001 - val_loss: 0.3843 - val_accuracy: 0.8213\n",
            "Epoch 2/5\n",
            "2353/2353 [==============================] - 33s 14ms/step - loss: 0.3712 - accuracy: 0.8306 - val_loss: 0.3687 - val_accuracy: 0.8311\n",
            "Epoch 3/5\n",
            "2353/2353 [==============================] - 33s 14ms/step - loss: 0.3498 - accuracy: 0.8421 - val_loss: 0.3630 - val_accuracy: 0.8349\n",
            "Epoch 4/5\n",
            "2353/2353 [==============================] - 31s 13ms/step - loss: 0.3311 - accuracy: 0.8517 - val_loss: 0.3590 - val_accuracy: 0.8382\n",
            "Epoch 5/5\n",
            "2353/2353 [==============================] - 31s 13ms/step - loss: 0.3126 - accuracy: 0.8613 - val_loss: 0.3593 - val_accuracy: 0.8395\n",
            "4705/4705 [==============================] - 12s 3ms/step\n",
            "Accuracy: 0.8395\n",
            "Classification Report:\n",
            "              precision    recall  f1-score   support\n",
            "\n",
            "           0       0.81      0.73      0.77     54683\n",
            "           1       0.85      0.90      0.88     95864\n",
            "\n",
            "    accuracy                           0.84    150547\n",
            "   macro avg       0.83      0.82      0.82    150547\n",
            "weighted avg       0.84      0.84      0.84    150547\n",
            "\n"
          ]
        }
      ],
      "source": [
        "import pandas as pd\n",
        "import numpy as np\n",
        "from sklearn.model_selection import train_test_split\n",
        "from sklearn.metrics import accuracy_score, classification_report\n",
        "from tensorflow.keras.preprocessing.text import Tokenizer\n",
        "from tensorflow.keras.preprocessing.sequence import pad_sequences\n",
        "from tensorflow.keras.models import Sequential\n",
        "from tensorflow.keras.layers import Embedding, LSTM, Dense, Dropout\n",
        "\n",
        "# Load the IMDB dataset from Kaggle\n",
        "# df = pd.read_csv('/content/IMDB Dataset.csv')\n",
        "\n",
        "# Split the dataset into training and testing sets\n",
        "train_df, test_df = train_test_split(df, test_size=0.2, random_state=42)\n",
        "\n",
        "# Tokenize the text\n",
        "tokenizer = Tokenizer(num_words=5000)\n",
        "tokenizer.fit_on_texts(train_df['review_content'])\n",
        "\n",
        "X_train = tokenizer.texts_to_sequences(train_df['review_content'])\n",
        "X_test = tokenizer.texts_to_sequences(test_df['review_content'])\n",
        "\n",
        "# Pad sequences to the same length\n",
        "max_len = max(len(review) for review in X_train)\n",
        "\n",
        "X_train = pad_sequences(X_train, maxlen=max_len)\n",
        "X_test = pad_sequences(X_test, maxlen=max_len)\n",
        "\n",
        "# Convert labels to numpy arrays\n",
        "y_train = np.array(train_df['review_type'])\n",
        "y_test = np.array(test_df['review_type'])\n",
        "\n",
        "# Build the CNN model\n",
        "vocab_size = len(tokenizer.word_index) + 1\n",
        "embedding_dim = 100\n",
        "\n",
        "model_lstm = Sequential()\n",
        "model_lstm.add(Embedding(vocab_size, embedding_dim, input_length=max_len))\n",
        "model_lstm.add(LSTM(128))\n",
        "model_lstm.add(Dense(64, activation='relu'))\n",
        "model_lstm.add(Dropout(0.5))\n",
        "model_lstm.add(Dense(1, activation='sigmoid'))\n",
        "\n",
        "model_lstm.compile(loss='binary_crossentropy', optimizer='adam', metrics=['accuracy'])\n",
        "\n",
        "# Train the model\n",
        "batch_size = 256\n",
        "epochs = 5\n",
        "\n",
        "model_lstm.fit(X_train, y_train, batch_size=batch_size, epochs=epochs, validation_data=(X_test, y_test))\n",
        "\n",
        "y_pred_prob = model_lstm.predict(X_test)\n",
        "y_pred = np.where(y_pred_prob >= 0.5, 1, 0)\n",
        "accuracy = accuracy_score(y_test, y_pred)\n",
        "classification_rep = classification_report(y_test, y_pred)\n",
        "\n",
        "print(f\"Accuracy: {accuracy:.4f}\")\n",
        "print(\"Classification Report:\")\n",
        "print(classification_rep)\n",
        "\n"
      ]
    },
    {
      "cell_type": "code",
      "execution_count": null,
      "metadata": {
        "id": "Mmh7dHHLaqWf",
        "outputId": "c5c76d79-4f6e-4412-ff64-91bbc2966d58",
        "colab": {
          "base_uri": "https://localhost:8080/"
        }
      },
      "outputs": [
        {
          "output_type": "stream",
          "name": "stdout",
          "text": [
            "4705/4705 [==============================] - 8s 2ms/step\n",
            "Precision: [0.8642180898633854]\n",
            "Recall: [0.8769924059083702]\n",
            "F1-score: [0.8705583887752725]\n",
            "Accuracy: [0.8339322603572307]\n"
          ]
        }
      ],
      "source": [
        "from sklearn.metrics import classification_report, accuracy_score,precision_score,f1_score, recall_score\n",
        "\n",
        "y_pred_prob = model_cnn.predict(X_test)\n",
        "y_pred = np.where(y_pred_prob >= 0.5, 1, 0)\n",
        "accuracy = accuracy_score(y_test, y_pred)\n",
        "classification_rep = classification_report(y_test, y_pred)\n",
        "\n",
        "precision_list = []\n",
        "recall_list = []\n",
        "f1_list = []\n",
        "accuracy_list = []\n",
        "\n",
        "\n",
        "\n",
        "accuracy = accuracy_score(y_test, y_pred)\n",
        "precision = precision_score(y_test, y_pred)\n",
        "f1_score = f1_score(y_test, y_pred)\n",
        "recall = recall_score(y_test, y_pred)\n",
        "\n",
        "accuracy_list.append(accuracy)\n",
        "precision_list.append(precision)\n",
        "recall_list.append(recall)\n",
        "f1_list.append(f1_score)\n",
        "\n",
        "print(f\"Precision: {precision_list}\")\n",
        "print(f\"Recall: {recall_list}\")\n",
        "print(f\"F1-score: {f1_list}\")\n",
        "print(f\"Accuracy: {accuracy_list}\")\n"
      ]
    },
    {
      "cell_type": "code",
      "execution_count": null,
      "metadata": {
        "id": "0ykdcstna15M",
        "outputId": "fd480c7d-fa92-4e11-8552-f5330cdacb71",
        "colab": {
          "base_uri": "https://localhost:8080/"
        }
      },
      "outputs": [
        {
          "output_type": "stream",
          "name": "stdout",
          "text": [
            "4705/4705 [==============================] - 12s 3ms/step\n",
            "Precision: [0.8642180898633854, 0.8531952831768612]\n",
            "Recall: [0.8769924059083702, 0.9034361178335976]\n",
            "F1-score: [0.8705583887752725, 0.877597239744038]\n",
            "Accuracy: [0.8339322603572307, 0.839525198110889]\n"
          ]
        }
      ],
      "source": [
        "from sklearn.metrics import classification_report, accuracy_score,precision_score,f1_score, recall_score\n",
        "\n",
        "y_pred_prob = model_lstm.predict(X_test)\n",
        "y_pred = np.where(y_pred_prob >= 0.5, 1, 0)\n",
        "accuracy = accuracy_score(y_test, y_pred)\n",
        "classification_rep = classification_report(y_test, y_pred)\n",
        "\n",
        "\n",
        "\n",
        "accuracy = accuracy_score(y_test, y_pred)\n",
        "precision = precision_score(y_test, y_pred)\n",
        "f1_score = f1_score(y_test, y_pred)\n",
        "recall = recall_score(y_test, y_pred)\n",
        "\n",
        "accuracy_list.append(accuracy)\n",
        "precision_list.append(precision)\n",
        "recall_list.append(recall)\n",
        "f1_list.append(f1_score)\n",
        "\n",
        "print(f\"Precision: {precision_list}\")\n",
        "print(f\"Recall: {recall_list}\")\n",
        "print(f\"F1-score: {f1_list}\")\n",
        "print(f\"Accuracy: {accuracy_list}\")\n"
      ]
    },
    {
      "cell_type": "code",
      "execution_count": null,
      "metadata": {
        "id": "-anOtGmKa-T4",
        "outputId": "28d5f8a8-b313-4235-e589-adf01c5b4fdb",
        "colab": {
          "base_uri": "https://localhost:8080/",
          "height": 1000
        }
      },
      "outputs": [
        {
          "output_type": "display_data",
          "data": {
            "text/plain": [
              "<Figure size 640x480 with 1 Axes>"
            ],
            "image/png": "[encoded data removed]"
          },
          "metadata": {}
        },
        {
          "output_type": "display_data",
          "data": {
            "text/plain": [
              "<Figure size 640x480 with 1 Axes>"
            ],
            "image/png": "[encoded data removed]"
          },
          "metadata": {}
        },
        {
          "output_type": "display_data",
          "data": {
            "text/plain": [
              "<Figure size 640x480 with 1 Axes>"
            ],
            "image/png": "[encoded data removed]"
          },
          "metadata": {}
        },
        {
          "output_type": "display_data",
          "data": {
            "text/plain": [
              "<Figure size 640x480 with 1 Axes>"
            ],
            "image/png": "[encoded data removed]"
          },
          "metadata": {}
        }
      ],
      "source": [
        "import matplotlib.pyplot as plt\n",
        "\n",
        "# Define the data to plot\n",
        "accuracy_data = [(accuracy_list[0], accuracy_list[1]), ('CNN', 'LSTM')]\n",
        "precision_data = [(precision_list[0], precision_list[1]), ('CNN', 'LSTM')]\n",
        "recall_data = [(recall_list[0], recall_list[1]), ('CNN', 'LSTM')]\n",
        "f1_data = [(f1_list[0], f1_list[1]), ('CNN', 'LSTM')]\n",
        "\n",
        "# Create a bar graph for accuracy\n",
        "plt.bar([0, 1], accuracy_data[0], tick_label=accuracy_data[1])\n",
        "plt.title('Accuracy')\n",
        "plt.show()\n",
        "\n",
        "# Create a bar graph for precision\n",
        "plt.bar([0, 1], precision_data[0], tick_label=precision_data[1])\n",
        "plt.title('Precision')\n",
        "plt.show()\n",
        "\n",
        "# Create a bar graph for recall\n",
        "plt.bar([0, 1], recall_data[0], tick_label=recall_data[1])\n",
        "plt.title('Recall')\n",
        "plt.show()\n",
        "\n",
        "# Create a bar graph for F1 score\n",
        "plt.bar([0, 1], f1_data[0], tick_label=f1_data[1])\n",
        "plt.title('F1 Score')\n",
        "plt.show()\n"
      ]
    },
    {
      "cell_type": "code",
      "source": [],
      "metadata": {
        "id": "Hb4ThPIaQ6EW"
      },
      "execution_count": null,
      "outputs": []
    }
  ],
  "metadata": {
    "accelerator": "GPU",
    "colab": {
      "provenance": []
    },
    "gpuClass": "standard",
    "kernelspec": {
      "display_name": "Python 3",
      "name": "python3"
    },
    "language_info": {
      "name": "python"
    }
  },
  "nbformat": 4,
  "nbformat_minor": 0
}